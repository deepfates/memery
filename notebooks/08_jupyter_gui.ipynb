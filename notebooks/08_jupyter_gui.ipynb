{
 "cells": [
  {
   "cell_type": "code",
   "execution_count": null,
   "metadata": {},
   "outputs": [],
   "source": [
    "#default_exp gui"
   ]
  },
  {
   "cell_type": "code",
   "execution_count": null,
   "metadata": {},
   "outputs": [],
   "source": [
    "#hide\n",
    "from nbdev.showdoc import *"
   ]
  },
  {
   "cell_type": "markdown",
   "metadata": {},
   "source": [
    "# GUI"
   ]
  },
  {
   "cell_type": "code",
   "execution_count": null,
   "metadata": {},
   "outputs": [],
   "source": [
    "#export\n",
    "import ipywidgets as widgets\n",
    "\n",
    "from memery.core import query_flow\n",
    "from pathlib import Path\n",
    "from IPython.display import clear_output\n",
    "\n"
   ]
  },
  {
   "cell_type": "markdown",
   "metadata": {},
   "source": [
    "## App design\n",
    "\n",
    "So what zones do we need for a proper image search app? Two examples come to mind: https://same.energy and https://images.google.com. One is minimalist and brutalist while the other is maximalist in features and refined in design.\n",
    "\n",
    "Same.energy proves that all you need for image search is a text box, a button, and images. (At least, that's how it started off, and sometimes how it is today. They're A/B testing heavily right now, and we'll see what it evolves into.) If you click on an image result, you are now searching for that image. If you add text, it asks if you want to search for the image with text or just the image. This can lead in any hill-climbing direction the user wants, I suppose. \n",
    "\n",
    "Google Images has up to six toolbars overhanging the images, and a complicated lightbox selection window that shows the individual image with a subset of similar images below it. Nested and stacked, providing lots of specific search and filtering capabilities. Not as likely to induce a wikiwalk. They've introduced \"collections\" now, which are presumably meant to replace the \"download to random image folder\" functionality of current browsers.\n",
    "\n",
    "There's also Pinterest, of course, though their engineering is geared more toward gaming Google results than finding the right image by search. Thye have a great browse mode though, and save features. Best of all, they have a goodreads-style user tagging function that allows for a whole different way of sorting images than availableon the other sites.\n",
    "\n",
    "The functions available from these sites include:\n",
    "\n",
    "- Text query\n",
    "- Image query\n",
    "- Text and image query (totally doable with CLIP vectors)\n",
    "- Browse visually similar images\n",
    "- Save images (to cloud mostly)\n",
    "- Filter images by:\n",
    "  - Size\n",
    "  - Color\n",
    "  - Type\n",
    "  - Time\n",
    "  - Usage rights\n",
    "- Visit homepage for image\n",
    "- Tagging images\n",
    "- Searching by tags additively\n",
    "- Filtering out by tags\n",
    "\n",
    "Tags and filter categories can both be simulated with CLIP vectors of text tokens like \"green\" or \"noisy\" or \"illustration\" or \"menswear\". Size of image can be inferred directly from filesize or recorded from bitmap data in the `crafter`. Images as search queries and visually similar image browser are the same function but in different user interaction modes. And image links can be to local files, rather than homepages. Saving images not as relevant in this context, though easily sending them somewhere else is. \n",
    "\n",
    "Thus there are really three projects here:\n",
    "- Basic app functionality with search and grid\n",
    "- Visually simillar image browsing and search\n",
    "- Tagging and filtering, auto and manual\n",
    "\n"
   ]
  },
  {
   "cell_type": "markdown",
   "metadata": {},
   "source": [
    "## Basic app functionality\n",
    "\n",
    "We want a unified search bar (variable inputs and a button) and an image grid. And each search should remain accessible after it's run, so we can navigate between and compare. It would be nice to use browser-native navigation but for now, with the plan to run a notebook in Voila and serve locally, better to use `ipywidgets` Tabs mode. Eventually it would also be good to replace or upgrade `ipyplot` or better navigation, but first we should sketch out the new-tab functionality.\n",
    "\n",
    "Need a tabs output, an event loop, a dictionary of searches run, each search returning a list of filenames to be printed in a sub-output within the tab. All wrapped in a VBox with the inputs.\n"
   ]
  },
  {
   "cell_type": "code",
   "execution_count": null,
   "metadata": {},
   "outputs": [],
   "source": [
    "filepaths = ['images/memes/Wholesome-Meme-8.jpg', 'images/memes/Wholesome-Meme-1.jpg']"
   ]
  },
  {
   "cell_type": "code",
   "execution_count": null,
   "metadata": {},
   "outputs": [],
   "source": [
    "#export\n",
    "def get_image(file_loc):\n",
    "    filepath = Path(file_loc)\n",
    "    file = open(filepath, 'rb')\n",
    "    image = widgets.Image(value=file.read(),width=200)\n",
    "    \n",
    "    return(image)"
   ]
  },
  {
   "cell_type": "code",
   "execution_count": null,
   "metadata": {},
   "outputs": [
    {
     "data": {
      "application/vnd.jupyter.widget-view+json": {
       "model_id": "26ba9441d4b444e29e2d9a23f7447784",
       "version_major": 2,
       "version_minor": 0
      },
      "text/plain": [
       "Image(value=b'\\xff\\xd8\\xff\\xe0\\x00\\x10JFIF\\x00\\x01\\x01\\x00\\x00\\x01\\x00\\x01\\x00\\x00\\xff\\xe2\\x02\\x1cICC_PROFILE\\…"
      ]
     },
     "metadata": {},
     "output_type": "display_data"
    }
   ],
   "source": [
    "display(get_image(filepaths[0]))"
   ]
  },
  {
   "cell_type": "code",
   "execution_count": null,
   "metadata": {},
   "outputs": [],
   "source": [
    "imgs = [get_image(f) for f in filepaths]"
   ]
  },
  {
   "cell_type": "code",
   "execution_count": null,
   "metadata": {},
   "outputs": [],
   "source": [
    "#export\n",
    "def get_grid(filepaths, n=4):\n",
    "    imgs = [get_image(f) for f in filepaths[:n] if Path(f).exists()]\n",
    "    grid = widgets.GridBox(imgs, layout=widgets.Layout(grid_template_columns=\"repeat(auto-fit, 200px)\"))\n",
    "    return(grid)"
   ]
  },
  {
   "cell_type": "code",
   "execution_count": null,
   "metadata": {},
   "outputs": [
    {
     "data": {
      "application/vnd.jupyter.widget-view+json": {
       "model_id": "7e8436a468c3400b9da7ee7fc62b52ef",
       "version_major": 2,
       "version_minor": 0
      },
      "text/plain": [
       "GridBox(children=(Image(value=b'\\xff\\xd8\\xff\\xe0\\x00\\x10JFIF\\x00\\x01\\x01\\x00\\x00\\x01\\x00\\x01\\x00\\x00\\xff\\xe2\\x…"
      ]
     },
     "metadata": {},
     "output_type": "display_data"
    }
   ],
   "source": [
    "get_grid(filepaths)"
   ]
  },
  {
   "cell_type": "code",
   "execution_count": null,
   "metadata": {},
   "outputs": [],
   "source": [
    "#export\n",
    "from PIL import Image\n",
    "from io import BytesIO"
   ]
  },
  {
   "cell_type": "code",
   "execution_count": null,
   "metadata": {},
   "outputs": [],
   "source": [
    "#export\n",
    "def update_tabs(path, query, n_images, searches, tabs, logbox, im_display_zone, image_query=None):\n",
    "    stem = Path(path.value).stem\n",
    "    slug = f\"{stem}:{str(query.value)}\"\n",
    "    if slug not in searches.keys():\n",
    "        with logbox:\n",
    "            print(slug)\n",
    "            if image_query:\n",
    "                im_queries = [name for name, data in image_query.items()]\n",
    "                \n",
    "                img = [Image.open(BytesIO(file_info['content'])).convert('RGB') for name, file_info in image_query.items()]\n",
    "                ranked = query_flow(path.value, query.value, image_query=img[-1])\n",
    "                slug = slug + f'/{im_queries}'\n",
    "                \n",
    "                if len(im_queries) > 0:\n",
    "                    with im_display_zone:\n",
    "                        clear_output()\n",
    "                        display(img[-1])\n",
    "            else:\n",
    "                ranked = query_flow(path.value, query.value)\n",
    "            searches[f'{slug}'] = ranked\n",
    "        \n",
    "    tabs.children = [get_grid(v, n=n_images.value) for v in searches.values()]\n",
    "    for i, k in enumerate(searches.keys()):\n",
    "        tabs.set_title(i, k)\n",
    "    tabs.selected_index = len(searches)-1\n",
    "\n",
    "        \n",
    "#     return(True)"
   ]
  },
  {
   "cell_type": "code",
   "execution_count": null,
   "metadata": {},
   "outputs": [],
   "source": [
    "#export\n",
    "class appPage():\n",
    "    \n",
    "    def __init__(self):\n",
    "        self.inputs_layout =  widgets.Layout(max_width='80%')\n",
    "\n",
    "        self.path = widgets.Text(placeholder='path/to/image/folder', value='images/', layout=self.inputs_layout)\n",
    "        self.query = widgets.Text(placeholder='a funny dog meme', value='a funny dog meme', layout=self.inputs_layout)\n",
    "        \n",
    "        self.image_query = widgets.FileUpload()\n",
    "        self.im_display_zone = widgets.Output(max_height='5rem')\n",
    "\n",
    "        self.n_images = widgets.IntSlider(description='#', value=4, layout=self.inputs_layout)\n",
    "        self.go = widgets.Button(description=\"Search\", layout=self.inputs_layout)\n",
    "        self.logbox = widgets.Output(layout=widgets.Layout(max_width='80%', height=\"3rem\", overflow=\"none\"))\n",
    "        self.all_inputs_layout =  widgets.Layout(max_width='80vw', min_height='40vh', flex_flow='row wrap', align_content='flex-start')\n",
    "\n",
    "        self.inputs = widgets.Box([self.path, self.query, self.image_query, self.n_images, self.go, self.im_display_zone, self.logbox], layout=self.all_inputs_layout)\n",
    "        self.tabs = widgets.Tab()\n",
    "        self.page = widgets.AppLayout(left_sidebar=self.inputs, center=self.tabs)\n",
    "\n",
    "        self.searches = {}\n",
    "        self.go.on_click(self.page_update)\n",
    "        \n",
    "        display(self.page)\n",
    "\n",
    "    def page_update(self, b):\n",
    "        \n",
    "        update_tabs(self.path, self.query, self.n_images, self.searches, self.tabs, self.logbox, self.im_display_zone, self.image_query.value)\n",
    "\n",
    "        \n"
   ]
  },
  {
   "cell_type": "code",
   "execution_count": null,
   "metadata": {},
   "outputs": [
    {
     "data": {
      "application/vnd.jupyter.widget-view+json": {
       "model_id": "f2e92ec6831f4e8e968a600df3a90822",
       "version_major": 2,
       "version_minor": 0
      },
      "text/plain": [
       "AppLayout(children=(Box(children=(Text(value='images/', layout=Layout(max_width='80%'), placeholder='path/to/i…"
      ]
     },
     "metadata": {},
     "output_type": "display_data"
    }
   ],
   "source": [
    "app = appPage()"
   ]
  }
 ],
 "metadata": {
  "kernelspec": {
   "display_name": "Python 3",
   "language": "python",
   "name": "python3"
  }
 },
 "nbformat": 4,
 "nbformat_minor": 4
}
