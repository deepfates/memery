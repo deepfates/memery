{
 "cells": [
  {
   "cell_type": "code",
   "execution_count": null,
   "metadata": {},
   "outputs": [],
   "source": [
    "#default_exp streamlit_app"
   ]
  },
  {
   "cell_type": "code",
   "execution_count": null,
   "metadata": {},
   "outputs": [],
   "source": [
    "#hide\n",
    "from nbdev.showdoc import *"
   ]
  },
  {
   "cell_type": "markdown",
   "metadata": {},
   "source": [
    "# Streamlit app"
   ]
  },
  {
   "cell_type": "markdown",
   "metadata": {},
   "source": [
    "Streamlit is a more convenient way to activate a quick user-facing GUI than Voila was, especially because of Voila having conflicting dependencies with nbdev.\n",
    "\n",
    "However, Streamlit wants a `.py` file instead of a notebook for development. This is kind of annoying, because to get the hot-reload effect from Streamlit we have to develop outside the notebook, but to maintain documentation (and compile with everything else) we have to keep the main source of truth right here. Perhaps a solution will present itself later; meanwhile, I have been using a scratch file `streamlit-app.py` for development and then copied it back here."
   ]
  },
  {
   "cell_type": "markdown",
   "metadata": {},
   "source": [
    "This is a workaround for the query_flow printing to stdout. Maybe it should be handled natively in Streamlit? "
   ]
  },
  {
   "cell_type": "code",
   "execution_count": null,
   "metadata": {},
   "outputs": [],
   "source": [
    "#export \n",
    "import streamlit as st\n",
    "from memery import core\n",
    "\n",
    "from pathlib import Path\n",
    "from PIL import Image\n",
    "\n",
    "from streamlit.report_thread import REPORT_CONTEXT_ATTR_NAME\n",
    "from threading import current_thread\n",
    "from contextlib import contextmanager\n",
    "from io import StringIO\n",
    "import sys"
   ]
  },
  {
   "cell_type": "code",
   "execution_count": null,
   "metadata": {},
   "outputs": [],
   "source": [
    "#export \n",
    "@contextmanager\n",
    "def st_redirect(src, dst):\n",
    "    placeholder = st.empty()\n",
    "    output_func = getattr(placeholder, dst)\n",
    "\n",
    "    with StringIO() as buffer:\n",
    "        old_write = src.write\n",
    "\n",
    "        def new_write(b):\n",
    "            if getattr(current_thread(), REPORT_CONTEXT_ATTR_NAME, None):\n",
    "                buffer.write(b + '')\n",
    "                output_func(buffer.getvalue() + '')\n",
    "            else:\n",
    "                old_write(b)\n",
    "\n",
    "        try:\n",
    "            src.write = new_write\n",
    "            yield\n",
    "        finally:\n",
    "            src.write = old_write\n",
    "\n",
    "\n",
    "@contextmanager\n",
    "def st_stdout(dst):\n",
    "    with st_redirect(sys.stdout, dst):\n",
    "        yield\n",
    "\n",
    "\n",
    "@contextmanager\n",
    "def st_stderr(dst):\n",
    "    with st_redirect(sys.stderr, dst):\n",
    "        yield"
   ]
  },
  {
   "cell_type": "markdown",
   "metadata": {},
   "source": [
    "Trying to make good use of streamlit's caching service here; if the search query and folder are the same as a previous search, it will serve the cached version. Might present some breakage points though, yet to see."
   ]
  },
  {
   "cell_type": "code",
   "execution_count": null,
   "metadata": {},
   "outputs": [],
   "source": [
    "#export\n",
    "@st.cache\n",
    "def send_image_query(path, text_query, image_query):\n",
    "    ranked = core.query_flow(path, text_query, image_query=img)\n",
    "    return(ranked)\n",
    "\n",
    "@st.cache\n",
    "def send_text_query(path, text_query):\n",
    "    ranked = core.query_flow(path, text_query)\n",
    "    return(ranked)"
   ]
  },
  {
   "cell_type": "markdown",
   "metadata": {},
   "source": [
    "This is the sidebar content"
   ]
  },
  {
   "cell_type": "code",
   "execution_count": null,
   "metadata": {},
   "outputs": [
    {
     "name": "stderr",
     "output_type": "stream",
     "text": [
      "2021-06-19 21:10:02.837 \n",
      "  \u001b[33m\u001b[1mWarning:\u001b[0m to view this Streamlit app on a browser, run it with the following\n",
      "  command:\n",
      "\n",
      "    streamlit run /home/mage/.local/lib/python3.7/site-packages/ipykernel_launcher.py [ARGUMENTS]\n"
     ]
    }
   ],
   "source": [
    "#export\n",
    "st.sidebar.title(\"Memery\")\n",
    "\n",
    "path = st.sidebar.text_input(label='Directory', value='./images')\n",
    "text_query = st.sidebar.text_input(label='Text query', value='')\n",
    "image_query = st.sidebar.file_uploader(label='Image query')\n",
    "im_display_zone = st.sidebar.beta_container()\n",
    "logbox = st.sidebar.beta_container()"
   ]
  },
  {
   "cell_type": "markdown",
   "metadata": {},
   "source": [
    "The image grid parameters"
   ]
  },
  {
   "cell_type": "code",
   "execution_count": null,
   "metadata": {},
   "outputs": [],
   "source": [
    "#export\n",
    "sizes = {'small': 115, 'medium':230, 'large':332, 'xlarge':600}\n",
    "\n",
    "l, m, r = st.beta_columns([4,1,1])\n",
    "with l:\n",
    "    num_images = st.slider(label='Number of images',value=12)\n",
    "with m:\n",
    "    size_choice = st.selectbox(label='Image width', options=[k for k in sizes.keys()], index=1)\n",
    "with r:\n",
    "    captions_on = st.checkbox(label=\"Caption filenames\", value=False)"
   ]
  },
  {
   "cell_type": "markdown",
   "metadata": {},
   "source": [
    "And the main event loop, triggered every time the query parameters change.\n",
    "\n",
    "This doesn't really work in Jupyter at all. Hope it does once it's compiled."
   ]
  },
  {
   "cell_type": "code",
   "execution_count": null,
   "metadata": {},
   "outputs": [],
   "source": [
    "#export\n",
    "if text_query or image_query:\n",
    "    with logbox:\n",
    "        with st_stdout('info'):\n",
    "            if image_query is not None:\n",
    "                img = Image.open(image_query).convert('RGB')\n",
    "                with im_display_zone:\n",
    "                    st.image(img)\n",
    "                ranked = send_image_query(path, text_query, image_query)\n",
    "            else:\n",
    "                ranked = send_text_query(path, text_query)\n",
    "    ims = [Image.open(o).convert('RGB') for o in ranked[:num_images]]\n",
    "    names = [o.replace(path, '') for o in ranked[:num_images]]\n",
    "\n",
    "    if captions_on:\n",
    "        images = st.image(ims, width=sizes[size_choice], channels='RGB', caption=names)\n",
    "    else:\n",
    "        images = st.image(ims, width=sizes[size_choice], channels='RGB')"
   ]
  }
 ],
 "metadata": {
  "kernelspec": {
   "display_name": "Python 3",
   "language": "python",
   "name": "python3"
  }
 },
 "nbformat": 4,
 "nbformat_minor": 4
}
