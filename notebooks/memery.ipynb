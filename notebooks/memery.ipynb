{
 "cells": [
  {
   "cell_type": "code",
   "execution_count": null,
   "metadata": {},
   "outputs": [],
   "source": [
    "from memery.core import Memery"
   ]
  },
  {
   "cell_type": "code",
   "execution_count": null,
   "metadata": {},
   "outputs": [],
   "source": [
    "memery = Memery()\n",
    "ranked = memery.query_flow('../images', 'dad joke')\n",
    "\n",
    "print(ranked[:5])"
   ]
  },
  {
   "cell_type": "code",
   "execution_count": null,
   "metadata": {},
   "outputs": [],
   "source": [
    "memery = Memery()\n",
    "root = '../images/'\n",
    "db = memery.get_db(root + 'memery.pt')\n",
    "index = memery.get_index(root + 'memery.ann')\n",
    "model = memery.get_model()"
   ]
  },
  {
   "cell_type": "code",
   "execution_count": null,
   "metadata": {},
   "outputs": [],
   "source": [
    "memery.index_flow(root)\n"
   ]
  },
  {
   "cell_type": "code",
   "execution_count": null,
   "metadata": {},
   "outputs": [],
   "source": [
    "memery.reset_state()\n",
    "memery.model = None"
   ]
  },
  {
   "cell_type": "code",
   "execution_count": null,
   "metadata": {},
   "outputs": [],
   "source": [
    "memery.query_flow(root, 'Wow its already working')"
   ]
  }
 ],
 "metadata": {
  "interpreter": {
   "hash": "deeee0b52e76b5e3a563dfd39c9570f6111f9f254cd04b55dab6af9643751b0b"
  },
  "kernelspec": {
   "display_name": "Python 3.9.12 ('memery-OXFjyqC6-py3.9')",
   "language": "python",
   "name": "python3"
  },
  "language_info": {
   "codemirror_mode": {
    "name": "ipython",
    "version": 3
   },
   "file_extension": ".py",
   "mimetype": "text/x-python",
   "name": "python",
   "nbconvert_exporter": "python",
   "pygments_lexer": "ipython3",
   "version": "3.9.6"
  },
  "orig_nbformat": 4
 },
 "nbformat": 4,
 "nbformat_minor": 2
}
