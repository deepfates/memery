{
 "cells": [
  {
   "cell_type": "code",
   "execution_count": 1,
   "metadata": {},
   "outputs": [],
   "source": [
    "from memery.core import Memery"
   ]
  },
  {
   "cell_type": "code",
   "execution_count": 2,
   "metadata": {},
   "outputs": [],
   "source": [
    "memery = Memery()\n",
    "root = '../images/'\n",
    "db = memery.get_db(root + 'memery.pt')\n",
    "index = memery.get_index(root + 'memery.ann')\n",
    "model = memery.get_model()"
   ]
  },
  {
   "cell_type": "code",
   "execution_count": 3,
   "metadata": {},
   "outputs": [
    {
     "name": "stdout",
     "output_type": "stream",
     "text": [
      "Checking files\n",
      "Skipping bad file: ../images/memes/corrupted-file.jpeg\n",
      "due to <class 'PIL.UnidentifiedImageError'>\n",
      "Done in 0.05382418632507324 seconds\n"
     ]
    },
    {
     "data": {
      "text/plain": [
       "('../images/memery.pt', '../images/memery.ann')"
      ]
     },
     "execution_count": 3,
     "metadata": {},
     "output_type": "execute_result"
    }
   ],
   "source": [
    "memery.index_flow(root)\n"
   ]
  },
  {
   "cell_type": "code",
   "execution_count": 13,
   "metadata": {},
   "outputs": [],
   "source": [
    "memery.reset_state()\n",
    "memery.model = None"
   ]
  },
  {
   "cell_type": "code",
   "execution_count": 22,
   "metadata": {},
   "outputs": [
    {
     "name": "stdout",
     "output_type": "stream",
     "text": [
      "Converting query\n",
      "Searching 82 images\n",
      "Done in 0.04137611389160156 seconds\n"
     ]
    },
    {
     "data": {
      "text/plain": [
       "['../images/memes/Wholesome-Meme-22.jpg',\n",
       " '../images/memes/Wholesome-Meme-1.jpg',\n",
       " '../images/memes/Wholesome-Meme-40.png',\n",
       " '../images/memes/Wholesome-Meme-68.jpg',\n",
       " '../images/memes/Wholesome-Meme-16.jpg',\n",
       " '../images/memes/Wholesome-Meme-61.png',\n",
       " '../images/memes/Wholesome-Meme-27.jpg',\n",
       " '../images/memes/Wholesome-Meme-69.jpg',\n",
       " '../images/memes/Wholesome-Meme-76.jpg',\n",
       " '../images/memes/Wholesome-Meme-63.jpg',\n",
       " '../images/memes/Wholesome-Meme-14.jpg',\n",
       " '../images/streamlit-screenshot.png',\n",
       " '../images/memes/Wholesome-Meme-44.png',\n",
       " '../images/memes/Wholesome-Meme-74.jpg',\n",
       " '../images/memes/Wholesome-Meme-25.jpg',\n",
       " '../images/memes/Wholesome-Meme-84.jpg',\n",
       " '../images/memes/stonks-meme.jpg',\n",
       " '../images/memes/Wholesome-Meme-3.jpg',\n",
       " '../images/memes/Wholesome-Meme-28.jpg',\n",
       " '../images/memes/Wholesome-Meme-89.jpg',\n",
       " '../images/memes/Wholesome-Meme-23.jpg',\n",
       " '../images/memes/Wholesome-Meme-39.jpg',\n",
       " '../images/memes/Wholesome-Meme-17.jpg',\n",
       " '../images/memes/Wholesome-Meme-80.jpg',\n",
       " '../images/memes/Wholesome-Meme-5.jpg',\n",
       " '../images/memes/Wholesome-Meme-45.jpg',\n",
       " '../images/memes/Wholesome-Meme-98.jpg',\n",
       " '../images/memes/Wholesome-Meme-41.jpg',\n",
       " '../images/memes/Wholesome-Meme-8.jpg',\n",
       " '../images/memes/Wholesome-Meme-15.jpg',\n",
       " '../images/memes/Wholesome-Meme-72.jpg',\n",
       " '../images/memes/Wholesome-Meme-10.jpg',\n",
       " '../images/memes/Wholesome-Meme-13.jpg',\n",
       " '../images/memes/Wholesome-Meme-99.jpg',\n",
       " '../images/jupyter-screenshot.png',\n",
       " '../images/memes/Wholesome-Meme-65.jpg',\n",
       " '../images/memes/Wholesome-Meme-21.jpg',\n",
       " '../images/memes/Wholesome-Meme-35.jpg',\n",
       " '../images/memes/Wholesome-Meme-77.jpg',\n",
       " '../images/memes/Wholesome-Meme-71.jpg',\n",
       " '../images/memes/Wholesome-Meme-85.jpg',\n",
       " '../images/memes/Wholesome-Meme-18.jpg',\n",
       " '../images/memes/Wholesome-Meme-67.png',\n",
       " '../images/memes/Wholesome-Meme-73.png',\n",
       " '../images/memes/Wholesome-Meme.jpg',\n",
       " '../images/memes/Wholesome-Meme-36.jpg',\n",
       " '../images/memes/Wholesome-Meme-78.jpg',\n",
       " '../images/memes/Wholesome-Meme-86.jpg',\n",
       " '../images/memes/Wholesome-Meme-29.jpg',\n",
       " '../images/memes/Wholesome-Meme-34.jpg',\n",
       " '../images/E2GoeMyWEAAkcLz.jpeg',\n",
       " '../images/memes/Wholesome-Meme-40.jpg',\n",
       " '../images/memes/Wholesome-Meme-88.jpg',\n",
       " '../images/memes/Wholesome-Meme-42.jpg',\n",
       " '../images/memes/Wholesome-Meme-31.jpg',\n",
       " '../images/memes/Wholesome-Meme-57.jpg',\n",
       " '../images/memes/Wholesome-Meme-97.jpg',\n",
       " '../images/memes/Envato-Elements.png',\n",
       " '../images/memes/Wholesome-Meme-81.jpg',\n",
       " '../images/memes/Wholesome-Meme-7.jpg',\n",
       " '../images/memes/Wholesome-Meme-33.jpg',\n",
       " '../images/memes/Wholesome-Meme-64.jpg',\n",
       " '../images/memes/Wholesome-Meme-60.jpg',\n",
       " '../images/memes/Wholesome-Meme-70.jpg',\n",
       " '../images/memes/Wholesome-Meme-6.jpg',\n",
       " '../images/memes/Shrek_screenshot.jpg',\n",
       " '../images/memes/Wholesome-Meme-4.jpg',\n",
       " '../images/memes/Wholesome-Meme-9.jpg',\n",
       " '../images/memes/Wholesome-Meme-12.jpg',\n",
       " '../images/memes/Wholesome-Meme-59.jpg',\n",
       " '../images/memes/halloween-Pumpkin-min.jpg',\n",
       " '../images/memes/Wholesome-Meme-82.jpg',\n",
       " '../images/memes/braydon-anderson-wOHH-NUTvVc-unsplash-min.jpg',\n",
       " '../images/memes/love-from-the-past-PPBEUVU-min.jpg',\n",
       " '../images/memes/cute-dog-with-cupcake-P9E2YL5-min.jpg',\n",
       " '../images/memes/cute-baby-touching-his-moms-face.jpeg',\n",
       " '../images/memes/happy-young-couple-eat-breakfast-in-bed-in-morning-RH4KQ72.jpg',\n",
       " '../images/memes/i-love-you-note-in-the-valentine-day-settings-X87BZ44.jpg',\n",
       " '../images/memes/portrait-of-happy-birthday-boy-B8VU4LZ.jpg',\n",
       " '../images/memes/embarassed-dog-on-bed-SA2BDZW.jpg',\n",
       " '../images/memes/mexican-food-concept-EXFWKZG.jpg',\n",
       " '../images/memes/Father-and-son-having-fun-at-the-breakfast-table.jpg']"
      ]
     },
     "execution_count": 22,
     "metadata": {},
     "output_type": "execute_result"
    }
   ],
   "source": [
    "memery.query_flow(root, 'Wow its already working')"
   ]
  }
 ],
 "metadata": {
  "interpreter": {
   "hash": "deeee0b52e76b5e3a563dfd39c9570f6111f9f254cd04b55dab6af9643751b0b"
  },
  "kernelspec": {
   "display_name": "Python 3.9.12 ('memery-OXFjyqC6-py3.9')",
   "language": "python",
   "name": "python3"
  },
  "language_info": {
   "codemirror_mode": {
    "name": "ipython",
    "version": 3
   },
   "file_extension": ".py",
   "mimetype": "text/x-python",
   "name": "python",
   "nbconvert_exporter": "python",
   "pygments_lexer": "ipython3",
   "version": "3.9.12"
  },
  "orig_nbformat": 4
 },
 "nbformat": 4,
 "nbformat_minor": 2
}
