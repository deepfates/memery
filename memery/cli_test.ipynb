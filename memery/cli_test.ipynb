{
 "cells": [
  {
   "cell_type": "markdown",
   "metadata": {},
   "source": [
    "Test all the cli commands"
   ]
  },
  {
   "cell_type": "code",
   "execution_count": 3,
   "metadata": {},
   "outputs": [],
   "source": [
    "import memery.cli as cli\n",
    "import subprocess\n",
    "import time\n",
    "from streamlit.server.server import Server"
   ]
  },
  {
   "cell_type": "markdown",
   "metadata": {},
   "source": [
    "To test\n",
    "    -recall\n",
    "    -serve"
   ]
  },
  {
   "cell_type": "code",
   "execution_count": 4,
   "metadata": {},
   "outputs": [
    {
     "name": "stdout",
     "output_type": "stream",
     "text": [
      "\u001b[34m  Stopping...\u001b[0m\n"
     ]
    },
    {
     "name": "stderr",
     "output_type": "stream",
     "text": [
      "2022-03-25 19:43:09.432 Credentials already loaded. Not rereading file.\n"
     ]
    },
    {
     "name": "stdout",
     "output_type": "stream",
     "text": [
      "Failed to run serve: Server already initialized. Use .get_current() instead\n",
      "Test passed!\n"
     ]
    }
   ],
   "source": [
    "# Run serve with no args\n",
    "try:\n",
    "    Server.get_current().stop(True)\n",
    "    time.sleep(10)\n",
    "except:\n",
    "    pass\n",
    "try:\n",
    "    cli.serve()\n",
    "except Exception as e:\n",
    "    print(f'Failed to run serve: {e}')\n",
    "print(\"Test passed!\")\n",
    "# try:\n",
    "#     cli.serve(root=\"./images\")\n",
    "# except Exception as e:\n",
    "#     print(f'Failed to run serve: {e}')\n",
    "# time.sleep(10)\n",
    "# Server.stop()\n",
    "# print(\"Test passed!\")\n",
    "# time.sleep(1)\n",
    "\n",
    "# try:\n",
    "#     subprocess.run(['memery', 'serve'], capture_output=True, timeout=20)\n",
    "# except subprocess.TimeoutExpired:\n",
    "#     print('Serve ran successfully!')\n",
    "#     # It's okay if this happens cause we want it to happen\n",
    "#     pass\n",
    "# except Exception as e:\n",
    "#     print(\"Error:\", e)\n"
   ]
  },
  {
   "cell_type": "markdown",
   "metadata": {},
   "source": []
  }
 ],
 "metadata": {
  "interpreter": {
   "hash": "468a83b72975a7344e1c092c5c39bbb79f04b208143c3b79560fd29f22bca566"
  },
  "kernelspec": {
   "display_name": "Python 3.9.10 64-bit",
   "language": "python",
   "name": "python3"
  },
  "language_info": {
   "codemirror_mode": {
    "name": "ipython",
    "version": 3
   },
   "file_extension": ".py",
   "mimetype": "text/x-python",
   "name": "python",
   "nbconvert_exporter": "python",
   "pygments_lexer": "ipython3",
   "version": "3.9.10"
  },
  "orig_nbformat": 4
 },
 "nbformat": 4,
 "nbformat_minor": 2
}
